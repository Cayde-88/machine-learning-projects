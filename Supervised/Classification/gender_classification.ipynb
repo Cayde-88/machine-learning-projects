{
 "cells": [
  {
   "cell_type": "markdown",
   "id": "c5d9024e",
   "metadata": {},
   "source": [
    "# 1. Exploratory Data Analysis\n"
   ]
  },
  {
   "cell_type": "code",
   "execution_count": 1,
   "id": "15855745",
   "metadata": {},
   "outputs": [],
   "source": [
    "# Import libraries\n",
    "\n",
    "# Utilities\n",
    "import pandas as pd\n",
    "import numpy as np\n",
    "pd.options.display.max_colwidth = 300\n",
    "\n",
    "# Plotting\n",
    "import matplotlib.pyplot as plt\n",
    "import seaborn as sns\n",
    "\n",
    "# SKlearn\n",
    "from sklearn.model_selection import train_test_split\n",
    "from sklearn.neighbors import KNeighborsClassifier\n",
    "from sklearn import preprocessing\n",
    "from sklearn.feature_selection import SelectKBest, chi2\n",
    "import time\n",
    "from sklearn.metrics import accuracy_score,confusion_matrix, precision_score, recall_score\n",
    "from sklearn.naive_bayes import GaussianNB\n",
    "from sklearn.model_selection import cross_val_score\n",
    "\n",
    "\n",
    "# Stats\n",
    "from scipy import stats"
   ]
  },
  {
   "cell_type": "code",
   "execution_count": 2,
   "id": "cccfccf7",
   "metadata": {},
   "outputs": [],
   "source": [
    "# load the data\n",
    "df = pd.read_csv(\"gender_classification.csv\")"
   ]
  },
  {
   "cell_type": "code",
   "execution_count": 3,
   "id": "cf5ed19e",
   "metadata": {},
   "outputs": [
    {
     "data": {
      "text/html": [
       "<div>\n",
       "<style scoped>\n",
       "    .dataframe tbody tr th:only-of-type {\n",
       "        vertical-align: middle;\n",
       "    }\n",
       "\n",
       "    .dataframe tbody tr th {\n",
       "        vertical-align: top;\n",
       "    }\n",
       "\n",
       "    .dataframe thead th {\n",
       "        text-align: right;\n",
       "    }\n",
       "</style>\n",
       "<table border=\"1\" class=\"dataframe\">\n",
       "  <thead>\n",
       "    <tr style=\"text-align: right;\">\n",
       "      <th></th>\n",
       "      <th>long_hair</th>\n",
       "      <th>forehead_width_cm</th>\n",
       "      <th>forehead_height_cm</th>\n",
       "      <th>nose_wide</th>\n",
       "      <th>nose_long</th>\n",
       "      <th>lips_thin</th>\n",
       "      <th>distance_nose_to_lip_long</th>\n",
       "      <th>gender</th>\n",
       "    </tr>\n",
       "  </thead>\n",
       "  <tbody>\n",
       "    <tr>\n",
       "      <th>0</th>\n",
       "      <td>1</td>\n",
       "      <td>11.8</td>\n",
       "      <td>6.1</td>\n",
       "      <td>1</td>\n",
       "      <td>0</td>\n",
       "      <td>1</td>\n",
       "      <td>1</td>\n",
       "      <td>Male</td>\n",
       "    </tr>\n",
       "    <tr>\n",
       "      <th>1</th>\n",
       "      <td>0</td>\n",
       "      <td>14.0</td>\n",
       "      <td>5.4</td>\n",
       "      <td>0</td>\n",
       "      <td>0</td>\n",
       "      <td>1</td>\n",
       "      <td>0</td>\n",
       "      <td>Female</td>\n",
       "    </tr>\n",
       "    <tr>\n",
       "      <th>2</th>\n",
       "      <td>0</td>\n",
       "      <td>11.8</td>\n",
       "      <td>6.3</td>\n",
       "      <td>1</td>\n",
       "      <td>1</td>\n",
       "      <td>1</td>\n",
       "      <td>1</td>\n",
       "      <td>Male</td>\n",
       "    </tr>\n",
       "    <tr>\n",
       "      <th>3</th>\n",
       "      <td>0</td>\n",
       "      <td>14.4</td>\n",
       "      <td>6.1</td>\n",
       "      <td>0</td>\n",
       "      <td>1</td>\n",
       "      <td>1</td>\n",
       "      <td>1</td>\n",
       "      <td>Male</td>\n",
       "    </tr>\n",
       "    <tr>\n",
       "      <th>4</th>\n",
       "      <td>1</td>\n",
       "      <td>13.5</td>\n",
       "      <td>5.9</td>\n",
       "      <td>0</td>\n",
       "      <td>0</td>\n",
       "      <td>0</td>\n",
       "      <td>0</td>\n",
       "      <td>Female</td>\n",
       "    </tr>\n",
       "  </tbody>\n",
       "</table>\n",
       "</div>"
      ],
      "text/plain": [
       "   long_hair  forehead_width_cm  forehead_height_cm  nose_wide  nose_long  \\\n",
       "0          1               11.8                 6.1          1          0   \n",
       "1          0               14.0                 5.4          0          0   \n",
       "2          0               11.8                 6.3          1          1   \n",
       "3          0               14.4                 6.1          0          1   \n",
       "4          1               13.5                 5.9          0          0   \n",
       "\n",
       "   lips_thin  distance_nose_to_lip_long  gender  \n",
       "0          1                          1    Male  \n",
       "1          1                          0  Female  \n",
       "2          1                          1    Male  \n",
       "3          1                          1    Male  \n",
       "4          0                          0  Female  "
      ]
     },
     "execution_count": 3,
     "metadata": {},
     "output_type": "execute_result"
    }
   ],
   "source": [
    "# Viewing the top 5 rows\n",
    "df.head()"
   ]
  },
  {
   "cell_type": "code",
   "execution_count": 4,
   "id": "53dc08d8",
   "metadata": {},
   "outputs": [
    {
     "data": {
      "text/plain": [
       "(5001, 8)"
      ]
     },
     "execution_count": 4,
     "metadata": {},
     "output_type": "execute_result"
    }
   ],
   "source": [
    "# Display shape of data frame\n",
    "df.shape"
   ]
  },
  {
   "cell_type": "code",
   "execution_count": 5,
   "id": "4ab31980",
   "metadata": {},
   "outputs": [
    {
     "name": "stdout",
     "output_type": "stream",
     "text": [
      "<class 'pandas.core.frame.DataFrame'>\n",
      "RangeIndex: 5001 entries, 0 to 5000\n",
      "Data columns (total 8 columns):\n",
      " #   Column                     Non-Null Count  Dtype  \n",
      "---  ------                     --------------  -----  \n",
      " 0   long_hair                  5001 non-null   int64  \n",
      " 1   forehead_width_cm          5001 non-null   float64\n",
      " 2   forehead_height_cm         5001 non-null   float64\n",
      " 3   nose_wide                  5001 non-null   int64  \n",
      " 4   nose_long                  5001 non-null   int64  \n",
      " 5   lips_thin                  5001 non-null   int64  \n",
      " 6   distance_nose_to_lip_long  5001 non-null   int64  \n",
      " 7   gender                     5001 non-null   object \n",
      "dtypes: float64(2), int64(5), object(1)\n",
      "memory usage: 312.7+ KB\n"
     ]
    }
   ],
   "source": [
    "# Display info of data frame\n",
    "df.info()"
   ]
  },
  {
   "cell_type": "markdown",
   "id": "c1ac0628",
   "metadata": {},
   "source": [
    "# 2. Data Cleaning/Preparation"
   ]
  },
  {
   "cell_type": "code",
   "execution_count": 6,
   "id": "5586a1b6",
   "metadata": {},
   "outputs": [
    {
     "data": {
      "text/plain": [
       "long_hair                    0\n",
       "forehead_width_cm            0\n",
       "forehead_height_cm           0\n",
       "nose_wide                    0\n",
       "nose_long                    0\n",
       "lips_thin                    0\n",
       "distance_nose_to_lip_long    0\n",
       "gender                       0\n",
       "dtype: int64"
      ]
     },
     "execution_count": 6,
     "metadata": {},
     "output_type": "execute_result"
    }
   ],
   "source": [
    "# View sum of NA and drop those with majority NaN values\n",
    "df.isna().sum().sort_values()"
   ]
  },
  {
   "cell_type": "code",
   "execution_count": 7,
   "id": "acea1092",
   "metadata": {},
   "outputs": [],
   "source": [
    "# Replace Female to 1 and Male to 0\n",
    "\n",
    "df['gender'].replace({'Male': 0, 'Female': 1},inplace = True)"
   ]
  },
  {
   "cell_type": "code",
   "execution_count": 8,
   "id": "56e5f233",
   "metadata": {
    "scrolled": false
   },
   "outputs": [
    {
     "data": {
      "text/html": [
       "<div>\n",
       "<style scoped>\n",
       "    .dataframe tbody tr th:only-of-type {\n",
       "        vertical-align: middle;\n",
       "    }\n",
       "\n",
       "    .dataframe tbody tr th {\n",
       "        vertical-align: top;\n",
       "    }\n",
       "\n",
       "    .dataframe thead th {\n",
       "        text-align: right;\n",
       "    }\n",
       "</style>\n",
       "<table border=\"1\" class=\"dataframe\">\n",
       "  <thead>\n",
       "    <tr style=\"text-align: right;\">\n",
       "      <th></th>\n",
       "      <th>long_hair</th>\n",
       "      <th>forehead_width_cm</th>\n",
       "      <th>forehead_height_cm</th>\n",
       "      <th>nose_wide</th>\n",
       "      <th>nose_long</th>\n",
       "      <th>lips_thin</th>\n",
       "      <th>distance_nose_to_lip_long</th>\n",
       "      <th>gender</th>\n",
       "    </tr>\n",
       "  </thead>\n",
       "  <tbody>\n",
       "    <tr>\n",
       "      <th>0</th>\n",
       "      <td>1.0</td>\n",
       "      <td>0.097561</td>\n",
       "      <td>0.50</td>\n",
       "      <td>1.0</td>\n",
       "      <td>0.0</td>\n",
       "      <td>1.0</td>\n",
       "      <td>1.0</td>\n",
       "      <td>0.0</td>\n",
       "    </tr>\n",
       "    <tr>\n",
       "      <th>1</th>\n",
       "      <td>0.0</td>\n",
       "      <td>0.634146</td>\n",
       "      <td>0.15</td>\n",
       "      <td>0.0</td>\n",
       "      <td>0.0</td>\n",
       "      <td>1.0</td>\n",
       "      <td>0.0</td>\n",
       "      <td>1.0</td>\n",
       "    </tr>\n",
       "    <tr>\n",
       "      <th>2</th>\n",
       "      <td>0.0</td>\n",
       "      <td>0.097561</td>\n",
       "      <td>0.60</td>\n",
       "      <td>1.0</td>\n",
       "      <td>1.0</td>\n",
       "      <td>1.0</td>\n",
       "      <td>1.0</td>\n",
       "      <td>0.0</td>\n",
       "    </tr>\n",
       "    <tr>\n",
       "      <th>3</th>\n",
       "      <td>0.0</td>\n",
       "      <td>0.731707</td>\n",
       "      <td>0.50</td>\n",
       "      <td>0.0</td>\n",
       "      <td>1.0</td>\n",
       "      <td>1.0</td>\n",
       "      <td>1.0</td>\n",
       "      <td>0.0</td>\n",
       "    </tr>\n",
       "    <tr>\n",
       "      <th>4</th>\n",
       "      <td>1.0</td>\n",
       "      <td>0.512195</td>\n",
       "      <td>0.40</td>\n",
       "      <td>0.0</td>\n",
       "      <td>0.0</td>\n",
       "      <td>0.0</td>\n",
       "      <td>0.0</td>\n",
       "      <td>1.0</td>\n",
       "    </tr>\n",
       "  </tbody>\n",
       "</table>\n",
       "</div>"
      ],
      "text/plain": [
       "   long_hair  forehead_width_cm  forehead_height_cm  nose_wide  nose_long  \\\n",
       "0        1.0           0.097561                0.50        1.0        0.0   \n",
       "1        0.0           0.634146                0.15        0.0        0.0   \n",
       "2        0.0           0.097561                0.60        1.0        1.0   \n",
       "3        0.0           0.731707                0.50        0.0        1.0   \n",
       "4        1.0           0.512195                0.40        0.0        0.0   \n",
       "\n",
       "   lips_thin  distance_nose_to_lip_long  gender  \n",
       "0        1.0                        1.0     0.0  \n",
       "1        1.0                        0.0     1.0  \n",
       "2        1.0                        1.0     0.0  \n",
       "3        1.0                        1.0     0.0  \n",
       "4        0.0                        0.0     1.0  "
      ]
     },
     "execution_count": 8,
     "metadata": {},
     "output_type": "execute_result"
    }
   ],
   "source": [
    "# Standardize data using MinMax Scaler\n",
    "\n",
    "scaler = preprocessing.MinMaxScaler()\n",
    "scaler.fit(df)\n",
    "df = pd.DataFrame(scaler.transform(df), index=df.index, columns=df.columns)\n",
    "df.head()"
   ]
  },
  {
   "cell_type": "code",
   "execution_count": 9,
   "id": "f2a72560",
   "metadata": {},
   "outputs": [
    {
     "data": {
      "text/plain": [
       "<AxesSubplot:>"
      ]
     },
     "execution_count": 9,
     "metadata": {},
     "output_type": "execute_result"
    },
    {
     "data": {
      "image/png": "[encoded data removed]",
      "text/plain": [
       "<Figure size 1152x576 with 2 Axes>"
      ]
     },
     "metadata": {
      "needs_background": "light"
     },
     "output_type": "display_data"
    }
   ],
   "source": [
    "# Heat-map\n",
    "\n",
    "plt.figure(figsize=(16, 8))\n",
    "sns.heatmap(df.corr(), annot=True)"
   ]
  },
  {
   "cell_type": "markdown",
   "id": "347fa30d",
   "metadata": {},
   "source": [
    "# 3. Determining the best model"
   ]
  },
  {
   "cell_type": "code",
   "execution_count": 10,
   "id": "1021d797",
   "metadata": {},
   "outputs": [
    {
     "name": "stdout",
     "output_type": "stream",
     "text": [
      "Index(['nose_wide', 'lips_thin', 'distance_nose_to_lip_long'], dtype='object')\n"
     ]
    }
   ],
   "source": [
    "# Using Feature Selection to find recommended columns for gender classification\n",
    "\n",
    "X = df.loc[:,df.columns!='gender']\n",
    "y = df[['gender']]\n",
    "selector = SelectKBest(chi2, k=3)\n",
    "selector.fit(X, y)\n",
    "X_new = selector.transform(X)\n",
    "print(X.columns[selector.get_support(indices=True)])"
   ]
  },
  {
   "cell_type": "code",
   "execution_count": 11,
   "id": "3f78b598",
   "metadata": {},
   "outputs": [],
   "source": [
    "# Assigned a new df with the selected columns\n",
    "\n",
    "df = df[['nose_wide','lips_thin','distance_nose_to_lip_long', 'gender']]\n",
    "X = df.iloc[:,:3].values\n",
    "y = df['gender'].values"
   ]
  },
  {
   "cell_type": "markdown",
   "id": "b1d7c989",
   "metadata": {},
   "source": [
    "## 3.1 K Nearest Neighbor"
   ]
  },
  {
   "cell_type": "code",
   "execution_count": 12,
   "id": "4e5a4bdd",
   "metadata": {
    "scrolled": true
   },
   "outputs": [
    {
     "name": "stdout",
     "output_type": "stream",
     "text": [
      "Accuracy : 95.6 %\n",
      "Time taken : 0.04 S\n"
     ]
    }
   ],
   "source": [
    "# Initialize, train & fit the model\n",
    "\n",
    "t0=time.time()\n",
    "\n",
    "knn= KNeighborsClassifier(n_neighbors=3 , metric= 'minkowski', p=2) \n",
    "X_train, X_test, y_train, y_test =train_test_split(X,y, test_size=0.20, random_state = 42)\n",
    "knn.fit(X_train,y_train)\n",
    "y_pred=knn.predict(X_test)\n",
    "score = accuracy_score(y_test,y_pred)\n",
    "\n",
    "print('Accuracy :',round(score*100,2), '%')\n",
    "print('Time taken :' , round(time.time()-t0,2), 'S')"
   ]
  },
  {
   "cell_type": "code",
   "execution_count": 13,
   "id": "56b6e837",
   "metadata": {
    "scrolled": false
   },
   "outputs": [
    {
     "data": {
      "text/html": [
       "<div>\n",
       "<style scoped>\n",
       "    .dataframe tbody tr th:only-of-type {\n",
       "        vertical-align: middle;\n",
       "    }\n",
       "\n",
       "    .dataframe tbody tr th {\n",
       "        vertical-align: top;\n",
       "    }\n",
       "\n",
       "    .dataframe thead th {\n",
       "        text-align: right;\n",
       "    }\n",
       "</style>\n",
       "<table border=\"1\" class=\"dataframe\">\n",
       "  <thead>\n",
       "    <tr style=\"text-align: right;\">\n",
       "      <th></th>\n",
       "      <th>Actuals</th>\n",
       "      <th>Predicted</th>\n",
       "    </tr>\n",
       "  </thead>\n",
       "  <tbody>\n",
       "    <tr>\n",
       "      <th>0</th>\n",
       "      <td>0.0</td>\n",
       "      <td>0.0</td>\n",
       "    </tr>\n",
       "    <tr>\n",
       "      <th>1</th>\n",
       "      <td>1.0</td>\n",
       "      <td>1.0</td>\n",
       "    </tr>\n",
       "    <tr>\n",
       "      <th>2</th>\n",
       "      <td>1.0</td>\n",
       "      <td>1.0</td>\n",
       "    </tr>\n",
       "    <tr>\n",
       "      <th>3</th>\n",
       "      <td>0.0</td>\n",
       "      <td>0.0</td>\n",
       "    </tr>\n",
       "    <tr>\n",
       "      <th>4</th>\n",
       "      <td>0.0</td>\n",
       "      <td>0.0</td>\n",
       "    </tr>\n",
       "    <tr>\n",
       "      <th>5</th>\n",
       "      <td>1.0</td>\n",
       "      <td>0.0</td>\n",
       "    </tr>\n",
       "    <tr>\n",
       "      <th>6</th>\n",
       "      <td>0.0</td>\n",
       "      <td>0.0</td>\n",
       "    </tr>\n",
       "    <tr>\n",
       "      <th>7</th>\n",
       "      <td>0.0</td>\n",
       "      <td>0.0</td>\n",
       "    </tr>\n",
       "    <tr>\n",
       "      <th>8</th>\n",
       "      <td>0.0</td>\n",
       "      <td>0.0</td>\n",
       "    </tr>\n",
       "    <tr>\n",
       "      <th>9</th>\n",
       "      <td>1.0</td>\n",
       "      <td>1.0</td>\n",
       "    </tr>\n",
       "    <tr>\n",
       "      <th>10</th>\n",
       "      <td>1.0</td>\n",
       "      <td>1.0</td>\n",
       "    </tr>\n",
       "    <tr>\n",
       "      <th>11</th>\n",
       "      <td>1.0</td>\n",
       "      <td>1.0</td>\n",
       "    </tr>\n",
       "    <tr>\n",
       "      <th>12</th>\n",
       "      <td>0.0</td>\n",
       "      <td>0.0</td>\n",
       "    </tr>\n",
       "    <tr>\n",
       "      <th>13</th>\n",
       "      <td>0.0</td>\n",
       "      <td>0.0</td>\n",
       "    </tr>\n",
       "    <tr>\n",
       "      <th>14</th>\n",
       "      <td>1.0</td>\n",
       "      <td>1.0</td>\n",
       "    </tr>\n",
       "    <tr>\n",
       "      <th>15</th>\n",
       "      <td>0.0</td>\n",
       "      <td>0.0</td>\n",
       "    </tr>\n",
       "    <tr>\n",
       "      <th>16</th>\n",
       "      <td>0.0</td>\n",
       "      <td>0.0</td>\n",
       "    </tr>\n",
       "    <tr>\n",
       "      <th>17</th>\n",
       "      <td>0.0</td>\n",
       "      <td>0.0</td>\n",
       "    </tr>\n",
       "    <tr>\n",
       "      <th>18</th>\n",
       "      <td>1.0</td>\n",
       "      <td>1.0</td>\n",
       "    </tr>\n",
       "    <tr>\n",
       "      <th>19</th>\n",
       "      <td>0.0</td>\n",
       "      <td>0.0</td>\n",
       "    </tr>\n",
       "  </tbody>\n",
       "</table>\n",
       "</div>"
      ],
      "text/plain": [
       "    Actuals  Predicted\n",
       "0       0.0        0.0\n",
       "1       1.0        1.0\n",
       "2       1.0        1.0\n",
       "3       0.0        0.0\n",
       "4       0.0        0.0\n",
       "5       1.0        0.0\n",
       "6       0.0        0.0\n",
       "7       0.0        0.0\n",
       "8       0.0        0.0\n",
       "9       1.0        1.0\n",
       "10      1.0        1.0\n",
       "11      1.0        1.0\n",
       "12      0.0        0.0\n",
       "13      0.0        0.0\n",
       "14      1.0        1.0\n",
       "15      0.0        0.0\n",
       "16      0.0        0.0\n",
       "17      0.0        0.0\n",
       "18      1.0        1.0\n",
       "19      0.0        0.0"
      ]
     },
     "execution_count": 13,
     "metadata": {},
     "output_type": "execute_result"
    }
   ],
   "source": [
    "# Compare table\n",
    "\n",
    "compare_df = pd.DataFrame({\"Actuals\": y_test,\n",
    "                          \"Predicted\": y_pred})\n",
    "compare_df.head(20)"
   ]
  },
  {
   "cell_type": "code",
   "execution_count": 14,
   "id": "727ccf91",
   "metadata": {},
   "outputs": [
    {
     "name": "stdout",
     "output_type": "stream",
     "text": [
      "Precision = 0.95\n"
     ]
    }
   ],
   "source": [
    "# Precision\n",
    "\n",
    "test_pre = precision_score(y_test, y_pred)\n",
    "print(\"Precision = {:.2f}\".format(test_pre))"
   ]
  },
  {
   "cell_type": "code",
   "execution_count": 15,
   "id": "1b8ea3cc",
   "metadata": {
    "scrolled": true
   },
   "outputs": [
    {
     "name": "stdout",
     "output_type": "stream",
     "text": [
      "Confusion Matrix = \n",
      " [[476  23]\n",
      " [ 21 481]]\n"
     ]
    },
    {
     "data": {
      "text/plain": [
       "<AxesSubplot:>"
      ]
     },
     "execution_count": 15,
     "metadata": {},
     "output_type": "execute_result"
    },
    {
     "data": {
      "image/png": "[encoded data removed]",
      "text/plain": [
       "<Figure size 432x288 with 2 Axes>"
      ]
     },
     "metadata": {
      "needs_background": "light"
     },
     "output_type": "display_data"
    }
   ],
   "source": [
    "# Confusion Matrix\n",
    "\n",
    "conf_mat = confusion_matrix(y_test, y_pred)\n",
    "print(\"Confusion Matrix = \\n\", str(conf_mat))\n",
    "\n",
    "# Heat map of conf_mat\n",
    "\n",
    "sns.heatmap(conf_mat, annot=True)"
   ]
  },
  {
   "cell_type": "code",
   "execution_count": 16,
   "id": "ef858e13",
   "metadata": {},
   "outputs": [
    {
     "name": "stdout",
     "output_type": "stream",
     "text": [
      "Recall = 0.96\n"
     ]
    }
   ],
   "source": [
    "# Recall\n",
    "test_rec = recall_score(y_test, y_pred)\n",
    "print(\"Recall = {:.2f}\".format(test_rec))"
   ]
  },
  {
   "cell_type": "code",
   "execution_count": 17,
   "id": "c6c31f71",
   "metadata": {},
   "outputs": [
    {
     "name": "stdout",
     "output_type": "stream",
     "text": [
      "1. Predict your gender using variables\n",
      "2. Exit the Programme\n",
      "Choose Option 2\n",
      "Exiting programme, bye bye!\n"
     ]
    }
   ],
   "source": [
    "# Own Prediction \n",
    "\n",
    "def action():\n",
    "    loop = True\n",
    "    while loop:\n",
    "        print(\"1. Predict your gender using variables\")\n",
    "        print(\"2. Exit the Programme\")\n",
    "        choice = int(input(\"Choose Option \"))\n",
    "\n",
    "        if choice == 1:\n",
    "                            \n",
    "            print(\"Input 1 for Yes, 0 for No\")\n",
    "            nose_wide = float(input(\"Is your nose wide?: \"))\n",
    "            lips_thin = float(input(\"Are your lips thin?: \"))\n",
    "            distance = float(input(\"Is the distance from your nose to lips long?: \" ))\n",
    "            \n",
    "            own_pred = [[nose_wide, lips_thin, distance]]\n",
    "            ans = knn.predict(own_pred)\n",
    "            if ans == 1:\n",
    "                print(\"\\n\" \"Your predicted gender is: Female\" \"\\n\")\n",
    "            else:\n",
    "                print(\"\\n\" \"Your predicted gender is Male\" \"\\n\")\n",
    "\n",
    "        elif choice == 2:\n",
    "            print(\"Exiting programme, bye bye!\")\n",
    "            break\n",
    "                     \n",
    "        else:\n",
    "            print(\"Wrong input, please try again\")   \n",
    "\n",
    "action()"
   ]
  },
  {
   "cell_type": "markdown",
   "id": "7db7c4bb",
   "metadata": {},
   "source": [
    "## 3.2 Naive Bayes"
   ]
  },
  {
   "cell_type": "code",
   "execution_count": 18,
   "id": "92bd02e7",
   "metadata": {
    "scrolled": true
   },
   "outputs": [
    {
     "name": "stdout",
     "output_type": "stream",
     "text": [
      "Accuracy : 95.6 %\n",
      "Time taken : 0.0 S\n"
     ]
    }
   ],
   "source": [
    "# Naive Bayes\n",
    "\n",
    "t0=time.time()\n",
    "\n",
    "classify = GaussianNB()\n",
    "X_train, X_test, y_train, y_test =train_test_split(X,y, test_size=0.20, random_state = 42)\n",
    "classify.fit(X_train, y_train)\n",
    "y_pred = classify.predict(X_test)\n",
    "score = accuracy_score(y_test,y_pred)\n",
    "\n",
    "print('Accuracy :',round(score*100,2), '%')\n",
    "print('Time taken :' , round(time.time()-t0,2), 'S')"
   ]
  },
  {
   "cell_type": "code",
   "execution_count": 19,
   "id": "ce2ffa73",
   "metadata": {
    "scrolled": true
   },
   "outputs": [
    {
     "name": "stdout",
     "output_type": "stream",
     "text": [
      "Confusion Matrix = \n",
      " [[476  23]\n",
      " [ 21 481]]\n"
     ]
    },
    {
     "data": {
      "text/plain": [
       "<AxesSubplot:>"
      ]
     },
     "execution_count": 19,
     "metadata": {},
     "output_type": "execute_result"
    },
    {
     "data": {
      "image/png": "[encoded data removed]",
      "text/plain": [
       "<Figure size 432x288 with 2 Axes>"
      ]
     },
     "metadata": {
      "needs_background": "light"
     },
     "output_type": "display_data"
    }
   ],
   "source": [
    "# Confusion Matrix\n",
    "\n",
    "conf_mat = confusion_matrix(y_test, y_pred)\n",
    "print(\"Confusion Matrix = \\n\", str(conf_mat))\n",
    "\n",
    "# Heat map of conf_mat\n",
    "\n",
    "sns.heatmap(conf_mat, annot=True)"
   ]
  },
  {
   "cell_type": "code",
   "execution_count": 20,
   "id": "a7af9ae5",
   "metadata": {},
   "outputs": [
    {
     "name": "stdout",
     "output_type": "stream",
     "text": [
      "Precision = 0.95\n"
     ]
    }
   ],
   "source": [
    "# Precision\n",
    "\n",
    "test_pre = precision_score(y_test, y_pred)\n",
    "print(\"Precision = {:.2f}\".format(test_pre))"
   ]
  },
  {
   "cell_type": "code",
   "execution_count": 21,
   "id": "549d5856",
   "metadata": {},
   "outputs": [
    {
     "name": "stdout",
     "output_type": "stream",
     "text": [
      "Recall = 0.96\n"
     ]
    }
   ],
   "source": [
    "# Recall\n",
    "\n",
    "test_rec = recall_score(y_test, y_pred)\n",
    "print(\"Recall = {:.2f}\".format(test_rec))"
   ]
  },
  {
   "cell_type": "code",
   "execution_count": 22,
   "id": "81fe10b0",
   "metadata": {},
   "outputs": [
    {
     "name": "stdout",
     "output_type": "stream",
     "text": [
      "Accuracy of the model: 0.96 (+/- 0.02)\n"
     ]
    }
   ],
   "source": [
    "# Cross validation\n",
    "\n",
    "NB = classify = GaussianNB()\n",
    "\n",
    "score = cross_val_score(NB, X_train, y_train, cv = 10)\n",
    "print(\"Accuracy of the model: %0.2f (+/- %0.2f)\" % (score.mean(), score.std() * 2))"
   ]
  },
  {
   "cell_type": "markdown",
   "id": "a781e9b6",
   "metadata": {},
   "source": [
    "#### Conclusion\n",
    "\n",
    "In conclusion, while the accuracy score of each model were identical, the K neighbor model had a slightly longer computational time, however, can be considered negligible. \n",
    "\n",
    "However, this is not to suggest that Naïve Bayes is of the better model based on this dataset. Naïve Bayes can suffer from the zero-probability problem, which according to Glen (2019), is defined as a particular attribute conditional probability equals zero. This will result in the model failing to produce a valid prediction completely.\n",
    "\n",
    "For this dataset, both models have been assessed to be suitable due to its low computational time but highly accurate prediction."
   ]
  }
 ],
 "metadata": {
  "kernelspec": {
   "display_name": "Python 3 (ipykernel)",
   "language": "python",
   "name": "python3"
  },
  "language_info": {
   "codemirror_mode": {
    "name": "ipython",
    "version": 3
   },
   "file_extension": ".py",
   "mimetype": "text/x-python",
   "name": "python",
   "nbconvert_exporter": "python",
   "pygments_lexer": "ipython3",
   "version": "3.9.7"
  }
 },
 "nbformat": 4,
 "nbformat_minor": 5
}
