{
 "cells": [
  {
   "cell_type": "markdown",
   "id": "9735801d",
   "metadata": {},
   "source": [
    "# 1. Exploratory Data Analysis"
   ]
  },
  {
   "cell_type": "code",
   "execution_count": 1,
   "id": "357f9a69",
   "metadata": {
    "scrolled": true
   },
   "outputs": [],
   "source": [
    "#Import Libaries\n",
    "\n",
    "import pandas as pd\n",
    "import numpy as np\n",
    "import matplotlib.pyplot as plt\n",
    "import seaborn as sns\n",
    "\n",
    "# Content Based Filtering\n",
    "from sklearn.feature_extraction.text import TfidfVectorizer\n",
    "from sklearn.metrics.pairwise import cosine_similarity\n",
    "\n",
    "# TensorFlow\n",
    "import tensorflow as tf\n",
    "import tensorflow_recommenders as tfrs"
   ]
  },
  {
   "cell_type": "code",
   "execution_count": 2,
   "id": "ff10cabd",
   "metadata": {
    "scrolled": true
   },
   "outputs": [],
   "source": [
    "# Read the data set\n",
    "\n",
    "df_movies = pd.read_csv('tmdb_5000_movies.csv')\n",
    "df_credits = pd.read_csv('tmdb_5000_credits.csv')"
   ]
  },
  {
   "cell_type": "code",
   "execution_count": 3,
   "id": "b9bed642",
   "metadata": {},
   "outputs": [
    {
     "data": {
      "text/html": [
       "<div>\n",
       "<style scoped>\n",
       "    .dataframe tbody tr th:only-of-type {\n",
       "        vertical-align: middle;\n",
       "    }\n",
       "\n",
       "    .dataframe tbody tr th {\n",
       "        vertical-align: top;\n",
       "    }\n",
       "\n",
       "    .dataframe thead th {\n",
       "        text-align: right;\n",
       "    }\n",
       "</style>\n",
       "<table border=\"1\" class=\"dataframe\">\n",
       "  <thead>\n",
       "    <tr style=\"text-align: right;\">\n",
       "      <th></th>\n",
       "      <th>budget</th>\n",
       "      <th>genres</th>\n",
       "      <th>homepage</th>\n",
       "      <th>id</th>\n",
       "      <th>keywords</th>\n",
       "      <th>original_language</th>\n",
       "      <th>original_title</th>\n",
       "      <th>overview</th>\n",
       "      <th>popularity</th>\n",
       "      <th>production_companies</th>\n",
       "      <th>production_countries</th>\n",
       "      <th>release_date</th>\n",
       "      <th>revenue</th>\n",
       "      <th>runtime</th>\n",
       "      <th>spoken_languages</th>\n",
       "      <th>status</th>\n",
       "      <th>tagline</th>\n",
       "      <th>title</th>\n",
       "      <th>vote_average</th>\n",
       "      <th>vote_count</th>\n",
       "    </tr>\n",
       "  </thead>\n",
       "  <tbody>\n",
       "    <tr>\n",
       "      <th>0</th>\n",
       "      <td>237000000</td>\n",
       "      <td>[{\"id\": 28, \"name\": \"Action\"}, {\"id\": 12, \"nam...</td>\n",
       "      <td>http://www.avatarmovie.com/</td>\n",
       "      <td>19995</td>\n",
       "      <td>[{\"id\": 1463, \"name\": \"culture clash\"}, {\"id\":...</td>\n",
       "      <td>en</td>\n",
       "      <td>Avatar</td>\n",
       "      <td>In the 22nd century, a paraplegic Marine is di...</td>\n",
       "      <td>150.437577</td>\n",
       "      <td>[{\"name\": \"Ingenious Film Partners\", \"id\": 289...</td>\n",
       "      <td>[{\"iso_3166_1\": \"US\", \"name\": \"United States o...</td>\n",
       "      <td>2009-12-10</td>\n",
       "      <td>2787965087</td>\n",
       "      <td>162.0</td>\n",
       "      <td>[{\"iso_639_1\": \"en\", \"name\": \"English\"}, {\"iso...</td>\n",
       "      <td>Released</td>\n",
       "      <td>Enter the World of Pandora.</td>\n",
       "      <td>Avatar</td>\n",
       "      <td>7.2</td>\n",
       "      <td>11800</td>\n",
       "    </tr>\n",
       "    <tr>\n",
       "      <th>1</th>\n",
       "      <td>300000000</td>\n",
       "      <td>[{\"id\": 12, \"name\": \"Adventure\"}, {\"id\": 14, \"...</td>\n",
       "      <td>http://disney.go.com/disneypictures/pirates/</td>\n",
       "      <td>285</td>\n",
       "      <td>[{\"id\": 270, \"name\": \"ocean\"}, {\"id\": 726, \"na...</td>\n",
       "      <td>en</td>\n",
       "      <td>Pirates of the Caribbean: At World's End</td>\n",
       "      <td>Captain Barbossa, long believed to be dead, ha...</td>\n",
       "      <td>139.082615</td>\n",
       "      <td>[{\"name\": \"Walt Disney Pictures\", \"id\": 2}, {\"...</td>\n",
       "      <td>[{\"iso_3166_1\": \"US\", \"name\": \"United States o...</td>\n",
       "      <td>2007-05-19</td>\n",
       "      <td>961000000</td>\n",
       "      <td>169.0</td>\n",
       "      <td>[{\"iso_639_1\": \"en\", \"name\": \"English\"}]</td>\n",
       "      <td>Released</td>\n",
       "      <td>At the end of the world, the adventure begins.</td>\n",
       "      <td>Pirates of the Caribbean: At World's End</td>\n",
       "      <td>6.9</td>\n",
       "      <td>4500</td>\n",
       "    </tr>\n",
       "    <tr>\n",
       "      <th>2</th>\n",
       "      <td>245000000</td>\n",
       "      <td>[{\"id\": 28, \"name\": \"Action\"}, {\"id\": 12, \"nam...</td>\n",
       "      <td>http://www.sonypictures.com/movies/spectre/</td>\n",
       "      <td>206647</td>\n",
       "      <td>[{\"id\": 470, \"name\": \"spy\"}, {\"id\": 818, \"name...</td>\n",
       "      <td>en</td>\n",
       "      <td>Spectre</td>\n",
       "      <td>A cryptic message from Bond’s past sends him o...</td>\n",
       "      <td>107.376788</td>\n",
       "      <td>[{\"name\": \"Columbia Pictures\", \"id\": 5}, {\"nam...</td>\n",
       "      <td>[{\"iso_3166_1\": \"GB\", \"name\": \"United Kingdom\"...</td>\n",
       "      <td>2015-10-26</td>\n",
       "      <td>880674609</td>\n",
       "      <td>148.0</td>\n",
       "      <td>[{\"iso_639_1\": \"fr\", \"name\": \"Fran\\u00e7ais\"},...</td>\n",
       "      <td>Released</td>\n",
       "      <td>A Plan No One Escapes</td>\n",
       "      <td>Spectre</td>\n",
       "      <td>6.3</td>\n",
       "      <td>4466</td>\n",
       "    </tr>\n",
       "    <tr>\n",
       "      <th>3</th>\n",
       "      <td>250000000</td>\n",
       "      <td>[{\"id\": 28, \"name\": \"Action\"}, {\"id\": 80, \"nam...</td>\n",
       "      <td>http://www.thedarkknightrises.com/</td>\n",
       "      <td>49026</td>\n",
       "      <td>[{\"id\": 849, \"name\": \"dc comics\"}, {\"id\": 853,...</td>\n",
       "      <td>en</td>\n",
       "      <td>The Dark Knight Rises</td>\n",
       "      <td>Following the death of District Attorney Harve...</td>\n",
       "      <td>112.312950</td>\n",
       "      <td>[{\"name\": \"Legendary Pictures\", \"id\": 923}, {\"...</td>\n",
       "      <td>[{\"iso_3166_1\": \"US\", \"name\": \"United States o...</td>\n",
       "      <td>2012-07-16</td>\n",
       "      <td>1084939099</td>\n",
       "      <td>165.0</td>\n",
       "      <td>[{\"iso_639_1\": \"en\", \"name\": \"English\"}]</td>\n",
       "      <td>Released</td>\n",
       "      <td>The Legend Ends</td>\n",
       "      <td>The Dark Knight Rises</td>\n",
       "      <td>7.6</td>\n",
       "      <td>9106</td>\n",
       "    </tr>\n",
       "    <tr>\n",
       "      <th>4</th>\n",
       "      <td>260000000</td>\n",
       "      <td>[{\"id\": 28, \"name\": \"Action\"}, {\"id\": 12, \"nam...</td>\n",
       "      <td>http://movies.disney.com/john-carter</td>\n",
       "      <td>49529</td>\n",
       "      <td>[{\"id\": 818, \"name\": \"based on novel\"}, {\"id\":...</td>\n",
       "      <td>en</td>\n",
       "      <td>John Carter</td>\n",
       "      <td>John Carter is a war-weary, former military ca...</td>\n",
       "      <td>43.926995</td>\n",
       "      <td>[{\"name\": \"Walt Disney Pictures\", \"id\": 2}]</td>\n",
       "      <td>[{\"iso_3166_1\": \"US\", \"name\": \"United States o...</td>\n",
       "      <td>2012-03-07</td>\n",
       "      <td>284139100</td>\n",
       "      <td>132.0</td>\n",
       "      <td>[{\"iso_639_1\": \"en\", \"name\": \"English\"}]</td>\n",
       "      <td>Released</td>\n",
       "      <td>Lost in our world, found in another.</td>\n",
       "      <td>John Carter</td>\n",
       "      <td>6.1</td>\n",
       "      <td>2124</td>\n",
       "    </tr>\n",
       "  </tbody>\n",
       "</table>\n",
       "</div>"
      ],
      "text/plain": [
       "      budget                                             genres  \\\n",
       "0  237000000  [{\"id\": 28, \"name\": \"Action\"}, {\"id\": 12, \"nam...   \n",
       "1  300000000  [{\"id\": 12, \"name\": \"Adventure\"}, {\"id\": 14, \"...   \n",
       "2  245000000  [{\"id\": 28, \"name\": \"Action\"}, {\"id\": 12, \"nam...   \n",
       "3  250000000  [{\"id\": 28, \"name\": \"Action\"}, {\"id\": 80, \"nam...   \n",
       "4  260000000  [{\"id\": 28, \"name\": \"Action\"}, {\"id\": 12, \"nam...   \n",
       "\n",
       "                                       homepage      id  \\\n",
       "0                   http://www.avatarmovie.com/   19995   \n",
       "1  http://disney.go.com/disneypictures/pirates/     285   \n",
       "2   http://www.sonypictures.com/movies/spectre/  206647   \n",
       "3            http://www.thedarkknightrises.com/   49026   \n",
       "4          http://movies.disney.com/john-carter   49529   \n",
       "\n",
       "                                            keywords original_language  \\\n",
       "0  [{\"id\": 1463, \"name\": \"culture clash\"}, {\"id\":...                en   \n",
       "1  [{\"id\": 270, \"name\": \"ocean\"}, {\"id\": 726, \"na...                en   \n",
       "2  [{\"id\": 470, \"name\": \"spy\"}, {\"id\": 818, \"name...                en   \n",
       "3  [{\"id\": 849, \"name\": \"dc comics\"}, {\"id\": 853,...                en   \n",
       "4  [{\"id\": 818, \"name\": \"based on novel\"}, {\"id\":...                en   \n",
       "\n",
       "                             original_title  \\\n",
       "0                                    Avatar   \n",
       "1  Pirates of the Caribbean: At World's End   \n",
       "2                                   Spectre   \n",
       "3                     The Dark Knight Rises   \n",
       "4                               John Carter   \n",
       "\n",
       "                                            overview  popularity  \\\n",
       "0  In the 22nd century, a paraplegic Marine is di...  150.437577   \n",
       "1  Captain Barbossa, long believed to be dead, ha...  139.082615   \n",
       "2  A cryptic message from Bond’s past sends him o...  107.376788   \n",
       "3  Following the death of District Attorney Harve...  112.312950   \n",
       "4  John Carter is a war-weary, former military ca...   43.926995   \n",
       "\n",
       "                                production_companies  \\\n",
       "0  [{\"name\": \"Ingenious Film Partners\", \"id\": 289...   \n",
       "1  [{\"name\": \"Walt Disney Pictures\", \"id\": 2}, {\"...   \n",
       "2  [{\"name\": \"Columbia Pictures\", \"id\": 5}, {\"nam...   \n",
       "3  [{\"name\": \"Legendary Pictures\", \"id\": 923}, {\"...   \n",
       "4        [{\"name\": \"Walt Disney Pictures\", \"id\": 2}]   \n",
       "\n",
       "                                production_countries release_date     revenue  \\\n",
       "0  [{\"iso_3166_1\": \"US\", \"name\": \"United States o...   2009-12-10  2787965087   \n",
       "1  [{\"iso_3166_1\": \"US\", \"name\": \"United States o...   2007-05-19   961000000   \n",
       "2  [{\"iso_3166_1\": \"GB\", \"name\": \"United Kingdom\"...   2015-10-26   880674609   \n",
       "3  [{\"iso_3166_1\": \"US\", \"name\": \"United States o...   2012-07-16  1084939099   \n",
       "4  [{\"iso_3166_1\": \"US\", \"name\": \"United States o...   2012-03-07   284139100   \n",
       "\n",
       "   runtime                                   spoken_languages    status  \\\n",
       "0    162.0  [{\"iso_639_1\": \"en\", \"name\": \"English\"}, {\"iso...  Released   \n",
       "1    169.0           [{\"iso_639_1\": \"en\", \"name\": \"English\"}]  Released   \n",
       "2    148.0  [{\"iso_639_1\": \"fr\", \"name\": \"Fran\\u00e7ais\"},...  Released   \n",
       "3    165.0           [{\"iso_639_1\": \"en\", \"name\": \"English\"}]  Released   \n",
       "4    132.0           [{\"iso_639_1\": \"en\", \"name\": \"English\"}]  Released   \n",
       "\n",
       "                                          tagline  \\\n",
       "0                     Enter the World of Pandora.   \n",
       "1  At the end of the world, the adventure begins.   \n",
       "2                           A Plan No One Escapes   \n",
       "3                                 The Legend Ends   \n",
       "4            Lost in our world, found in another.   \n",
       "\n",
       "                                      title  vote_average  vote_count  \n",
       "0                                    Avatar           7.2       11800  \n",
       "1  Pirates of the Caribbean: At World's End           6.9        4500  \n",
       "2                                   Spectre           6.3        4466  \n",
       "3                     The Dark Knight Rises           7.6        9106  \n",
       "4                               John Carter           6.1        2124  "
      ]
     },
     "execution_count": 3,
     "metadata": {},
     "output_type": "execute_result"
    }
   ],
   "source": [
    "df_movies.head()"
   ]
  },
  {
   "cell_type": "code",
   "execution_count": 4,
   "id": "454a89fe",
   "metadata": {
    "scrolled": true
   },
   "outputs": [
    {
     "data": {
      "text/html": [
       "<div>\n",
       "<style scoped>\n",
       "    .dataframe tbody tr th:only-of-type {\n",
       "        vertical-align: middle;\n",
       "    }\n",
       "\n",
       "    .dataframe tbody tr th {\n",
       "        vertical-align: top;\n",
       "    }\n",
       "\n",
       "    .dataframe thead th {\n",
       "        text-align: right;\n",
       "    }\n",
       "</style>\n",
       "<table border=\"1\" class=\"dataframe\">\n",
       "  <thead>\n",
       "    <tr style=\"text-align: right;\">\n",
       "      <th></th>\n",
       "      <th>movie_id</th>\n",
       "      <th>title</th>\n",
       "      <th>cast</th>\n",
       "      <th>crew</th>\n",
       "    </tr>\n",
       "  </thead>\n",
       "  <tbody>\n",
       "    <tr>\n",
       "      <th>0</th>\n",
       "      <td>19995</td>\n",
       "      <td>Avatar</td>\n",
       "      <td>[{\"cast_id\": 242, \"character\": \"Jake Sully\", \"...</td>\n",
       "      <td>[{\"credit_id\": \"52fe48009251416c750aca23\", \"de...</td>\n",
       "    </tr>\n",
       "    <tr>\n",
       "      <th>1</th>\n",
       "      <td>285</td>\n",
       "      <td>Pirates of the Caribbean: At World's End</td>\n",
       "      <td>[{\"cast_id\": 4, \"character\": \"Captain Jack Spa...</td>\n",
       "      <td>[{\"credit_id\": \"52fe4232c3a36847f800b579\", \"de...</td>\n",
       "    </tr>\n",
       "    <tr>\n",
       "      <th>2</th>\n",
       "      <td>206647</td>\n",
       "      <td>Spectre</td>\n",
       "      <td>[{\"cast_id\": 1, \"character\": \"James Bond\", \"cr...</td>\n",
       "      <td>[{\"credit_id\": \"54805967c3a36829b5002c41\", \"de...</td>\n",
       "    </tr>\n",
       "    <tr>\n",
       "      <th>3</th>\n",
       "      <td>49026</td>\n",
       "      <td>The Dark Knight Rises</td>\n",
       "      <td>[{\"cast_id\": 2, \"character\": \"Bruce Wayne / Ba...</td>\n",
       "      <td>[{\"credit_id\": \"52fe4781c3a36847f81398c3\", \"de...</td>\n",
       "    </tr>\n",
       "    <tr>\n",
       "      <th>4</th>\n",
       "      <td>49529</td>\n",
       "      <td>John Carter</td>\n",
       "      <td>[{\"cast_id\": 5, \"character\": \"John Carter\", \"c...</td>\n",
       "      <td>[{\"credit_id\": \"52fe479ac3a36847f813eaa3\", \"de...</td>\n",
       "    </tr>\n",
       "  </tbody>\n",
       "</table>\n",
       "</div>"
      ],
      "text/plain": [
       "   movie_id                                     title  \\\n",
       "0     19995                                    Avatar   \n",
       "1       285  Pirates of the Caribbean: At World's End   \n",
       "2    206647                                   Spectre   \n",
       "3     49026                     The Dark Knight Rises   \n",
       "4     49529                               John Carter   \n",
       "\n",
       "                                                cast  \\\n",
       "0  [{\"cast_id\": 242, \"character\": \"Jake Sully\", \"...   \n",
       "1  [{\"cast_id\": 4, \"character\": \"Captain Jack Spa...   \n",
       "2  [{\"cast_id\": 1, \"character\": \"James Bond\", \"cr...   \n",
       "3  [{\"cast_id\": 2, \"character\": \"Bruce Wayne / Ba...   \n",
       "4  [{\"cast_id\": 5, \"character\": \"John Carter\", \"c...   \n",
       "\n",
       "                                                crew  \n",
       "0  [{\"credit_id\": \"52fe48009251416c750aca23\", \"de...  \n",
       "1  [{\"credit_id\": \"52fe4232c3a36847f800b579\", \"de...  \n",
       "2  [{\"credit_id\": \"54805967c3a36829b5002c41\", \"de...  \n",
       "3  [{\"credit_id\": \"52fe4781c3a36847f81398c3\", \"de...  \n",
       "4  [{\"credit_id\": \"52fe479ac3a36847f813eaa3\", \"de...  "
      ]
     },
     "execution_count": 4,
     "metadata": {},
     "output_type": "execute_result"
    }
   ],
   "source": [
    "df_credits.head()"
   ]
  },
  {
   "cell_type": "markdown",
   "id": "f361e0b8",
   "metadata": {},
   "source": [
    "From here we can join the 2 dataframes together, with the assumption that the cast or crew may work with other movie titles with the same genre, thus strengthening the recommender system."
   ]
  },
  {
   "cell_type": "markdown",
   "id": "a2a7c7da",
   "metadata": {},
   "source": [
    "# 2. Data Cleaning / Preparation"
   ]
  },
  {
   "cell_type": "code",
   "execution_count": 5,
   "id": "d63e7223",
   "metadata": {},
   "outputs": [],
   "source": [
    "# Rename the id for joining\n",
    "\n",
    "df_credits.rename(columns={'movie_id':'id'},inplace=True)"
   ]
  },
  {
   "cell_type": "code",
   "execution_count": 6,
   "id": "296b26d9",
   "metadata": {
    "scrolled": true
   },
   "outputs": [],
   "source": [
    "# Combine the 2 datasets\n",
    "\n",
    "df_combine = pd.merge(df_movies,df_credits,on=['id','title'])"
   ]
  },
  {
   "cell_type": "code",
   "execution_count": 7,
   "id": "e1efa593",
   "metadata": {
    "scrolled": true
   },
   "outputs": [
    {
     "data": {
      "text/plain": [
       "budget                     0\n",
       "vote_count                 0\n",
       "vote_average               0\n",
       "title                      0\n",
       "status                     0\n",
       "spoken_languages           0\n",
       "revenue                    0\n",
       "cast                       0\n",
       "production_companies       0\n",
       "production_countries       0\n",
       "original_title             0\n",
       "original_language          0\n",
       "keywords                   0\n",
       "id                         0\n",
       "genres                     0\n",
       "popularity                 0\n",
       "crew                       0\n",
       "release_date               1\n",
       "runtime                    2\n",
       "overview                   3\n",
       "tagline                  844\n",
       "homepage                3091\n",
       "dtype: int64"
      ]
     },
     "execution_count": 7,
     "metadata": {},
     "output_type": "execute_result"
    }
   ],
   "source": [
    "# Check for Null & Repeated Columns\n",
    "\n",
    "df_combine.isna().sum().sort_values()"
   ]
  },
  {
   "cell_type": "code",
   "execution_count": 8,
   "id": "8825037f",
   "metadata": {},
   "outputs": [
    {
     "data": {
      "text/html": [
       "<div>\n",
       "<style scoped>\n",
       "    .dataframe tbody tr th:only-of-type {\n",
       "        vertical-align: middle;\n",
       "    }\n",
       "\n",
       "    .dataframe tbody tr th {\n",
       "        vertical-align: top;\n",
       "    }\n",
       "\n",
       "    .dataframe thead th {\n",
       "        text-align: right;\n",
       "    }\n",
       "</style>\n",
       "<table border=\"1\" class=\"dataframe\">\n",
       "  <thead>\n",
       "    <tr style=\"text-align: right;\">\n",
       "      <th></th>\n",
       "      <th>budget</th>\n",
       "      <th>genres</th>\n",
       "      <th>id</th>\n",
       "      <th>keywords</th>\n",
       "      <th>original_title</th>\n",
       "      <th>overview</th>\n",
       "      <th>popularity</th>\n",
       "      <th>production_companies</th>\n",
       "      <th>production_countries</th>\n",
       "      <th>revenue</th>\n",
       "      <th>runtime</th>\n",
       "      <th>spoken_languages</th>\n",
       "      <th>vote_average</th>\n",
       "      <th>vote_count</th>\n",
       "      <th>cast</th>\n",
       "      <th>crew</th>\n",
       "    </tr>\n",
       "  </thead>\n",
       "  <tbody>\n",
       "    <tr>\n",
       "      <th>0</th>\n",
       "      <td>237000000</td>\n",
       "      <td>[{\"id\": 28, \"name\": \"Action\"}, {\"id\": 12, \"nam...</td>\n",
       "      <td>19995</td>\n",
       "      <td>[{\"id\": 1463, \"name\": \"culture clash\"}, {\"id\":...</td>\n",
       "      <td>Avatar</td>\n",
       "      <td>In the 22nd century, a paraplegic Marine is di...</td>\n",
       "      <td>150.437577</td>\n",
       "      <td>[{\"name\": \"Ingenious Film Partners\", \"id\": 289...</td>\n",
       "      <td>[{\"iso_3166_1\": \"US\", \"name\": \"United States o...</td>\n",
       "      <td>2787965087</td>\n",
       "      <td>162.0</td>\n",
       "      <td>[{\"iso_639_1\": \"en\", \"name\": \"English\"}, {\"iso...</td>\n",
       "      <td>7.2</td>\n",
       "      <td>11800</td>\n",
       "      <td>[{\"cast_id\": 242, \"character\": \"Jake Sully\", \"...</td>\n",
       "      <td>[{\"credit_id\": \"52fe48009251416c750aca23\", \"de...</td>\n",
       "    </tr>\n",
       "    <tr>\n",
       "      <th>1</th>\n",
       "      <td>300000000</td>\n",
       "      <td>[{\"id\": 12, \"name\": \"Adventure\"}, {\"id\": 14, \"...</td>\n",
       "      <td>285</td>\n",
       "      <td>[{\"id\": 270, \"name\": \"ocean\"}, {\"id\": 726, \"na...</td>\n",
       "      <td>Pirates of the Caribbean: At World's End</td>\n",
       "      <td>Captain Barbossa, long believed to be dead, ha...</td>\n",
       "      <td>139.082615</td>\n",
       "      <td>[{\"name\": \"Walt Disney Pictures\", \"id\": 2}, {\"...</td>\n",
       "      <td>[{\"iso_3166_1\": \"US\", \"name\": \"United States o...</td>\n",
       "      <td>961000000</td>\n",
       "      <td>169.0</td>\n",
       "      <td>[{\"iso_639_1\": \"en\", \"name\": \"English\"}]</td>\n",
       "      <td>6.9</td>\n",
       "      <td>4500</td>\n",
       "      <td>[{\"cast_id\": 4, \"character\": \"Captain Jack Spa...</td>\n",
       "      <td>[{\"credit_id\": \"52fe4232c3a36847f800b579\", \"de...</td>\n",
       "    </tr>\n",
       "    <tr>\n",
       "      <th>2</th>\n",
       "      <td>245000000</td>\n",
       "      <td>[{\"id\": 28, \"name\": \"Action\"}, {\"id\": 12, \"nam...</td>\n",
       "      <td>206647</td>\n",
       "      <td>[{\"id\": 470, \"name\": \"spy\"}, {\"id\": 818, \"name...</td>\n",
       "      <td>Spectre</td>\n",
       "      <td>A cryptic message from Bond’s past sends him o...</td>\n",
       "      <td>107.376788</td>\n",
       "      <td>[{\"name\": \"Columbia Pictures\", \"id\": 5}, {\"nam...</td>\n",
       "      <td>[{\"iso_3166_1\": \"GB\", \"name\": \"United Kingdom\"...</td>\n",
       "      <td>880674609</td>\n",
       "      <td>148.0</td>\n",
       "      <td>[{\"iso_639_1\": \"fr\", \"name\": \"Fran\\u00e7ais\"},...</td>\n",
       "      <td>6.3</td>\n",
       "      <td>4466</td>\n",
       "      <td>[{\"cast_id\": 1, \"character\": \"James Bond\", \"cr...</td>\n",
       "      <td>[{\"credit_id\": \"54805967c3a36829b5002c41\", \"de...</td>\n",
       "    </tr>\n",
       "    <tr>\n",
       "      <th>3</th>\n",
       "      <td>250000000</td>\n",
       "      <td>[{\"id\": 28, \"name\": \"Action\"}, {\"id\": 80, \"nam...</td>\n",
       "      <td>49026</td>\n",
       "      <td>[{\"id\": 849, \"name\": \"dc comics\"}, {\"id\": 853,...</td>\n",
       "      <td>The Dark Knight Rises</td>\n",
       "      <td>Following the death of District Attorney Harve...</td>\n",
       "      <td>112.312950</td>\n",
       "      <td>[{\"name\": \"Legendary Pictures\", \"id\": 923}, {\"...</td>\n",
       "      <td>[{\"iso_3166_1\": \"US\", \"name\": \"United States o...</td>\n",
       "      <td>1084939099</td>\n",
       "      <td>165.0</td>\n",
       "      <td>[{\"iso_639_1\": \"en\", \"name\": \"English\"}]</td>\n",
       "      <td>7.6</td>\n",
       "      <td>9106</td>\n",
       "      <td>[{\"cast_id\": 2, \"character\": \"Bruce Wayne / Ba...</td>\n",
       "      <td>[{\"credit_id\": \"52fe4781c3a36847f81398c3\", \"de...</td>\n",
       "    </tr>\n",
       "    <tr>\n",
       "      <th>4</th>\n",
       "      <td>260000000</td>\n",
       "      <td>[{\"id\": 28, \"name\": \"Action\"}, {\"id\": 12, \"nam...</td>\n",
       "      <td>49529</td>\n",
       "      <td>[{\"id\": 818, \"name\": \"based on novel\"}, {\"id\":...</td>\n",
       "      <td>John Carter</td>\n",
       "      <td>John Carter is a war-weary, former military ca...</td>\n",
       "      <td>43.926995</td>\n",
       "      <td>[{\"name\": \"Walt Disney Pictures\", \"id\": 2}]</td>\n",
       "      <td>[{\"iso_3166_1\": \"US\", \"name\": \"United States o...</td>\n",
       "      <td>284139100</td>\n",
       "      <td>132.0</td>\n",
       "      <td>[{\"iso_639_1\": \"en\", \"name\": \"English\"}]</td>\n",
       "      <td>6.1</td>\n",
       "      <td>2124</td>\n",
       "      <td>[{\"cast_id\": 5, \"character\": \"John Carter\", \"c...</td>\n",
       "      <td>[{\"credit_id\": \"52fe479ac3a36847f813eaa3\", \"de...</td>\n",
       "    </tr>\n",
       "  </tbody>\n",
       "</table>\n",
       "</div>"
      ],
      "text/plain": [
       "      budget                                             genres      id  \\\n",
       "0  237000000  [{\"id\": 28, \"name\": \"Action\"}, {\"id\": 12, \"nam...   19995   \n",
       "1  300000000  [{\"id\": 12, \"name\": \"Adventure\"}, {\"id\": 14, \"...     285   \n",
       "2  245000000  [{\"id\": 28, \"name\": \"Action\"}, {\"id\": 12, \"nam...  206647   \n",
       "3  250000000  [{\"id\": 28, \"name\": \"Action\"}, {\"id\": 80, \"nam...   49026   \n",
       "4  260000000  [{\"id\": 28, \"name\": \"Action\"}, {\"id\": 12, \"nam...   49529   \n",
       "\n",
       "                                            keywords  \\\n",
       "0  [{\"id\": 1463, \"name\": \"culture clash\"}, {\"id\":...   \n",
       "1  [{\"id\": 270, \"name\": \"ocean\"}, {\"id\": 726, \"na...   \n",
       "2  [{\"id\": 470, \"name\": \"spy\"}, {\"id\": 818, \"name...   \n",
       "3  [{\"id\": 849, \"name\": \"dc comics\"}, {\"id\": 853,...   \n",
       "4  [{\"id\": 818, \"name\": \"based on novel\"}, {\"id\":...   \n",
       "\n",
       "                             original_title  \\\n",
       "0                                    Avatar   \n",
       "1  Pirates of the Caribbean: At World's End   \n",
       "2                                   Spectre   \n",
       "3                     The Dark Knight Rises   \n",
       "4                               John Carter   \n",
       "\n",
       "                                            overview  popularity  \\\n",
       "0  In the 22nd century, a paraplegic Marine is di...  150.437577   \n",
       "1  Captain Barbossa, long believed to be dead, ha...  139.082615   \n",
       "2  A cryptic message from Bond’s past sends him o...  107.376788   \n",
       "3  Following the death of District Attorney Harve...  112.312950   \n",
       "4  John Carter is a war-weary, former military ca...   43.926995   \n",
       "\n",
       "                                production_companies  \\\n",
       "0  [{\"name\": \"Ingenious Film Partners\", \"id\": 289...   \n",
       "1  [{\"name\": \"Walt Disney Pictures\", \"id\": 2}, {\"...   \n",
       "2  [{\"name\": \"Columbia Pictures\", \"id\": 5}, {\"nam...   \n",
       "3  [{\"name\": \"Legendary Pictures\", \"id\": 923}, {\"...   \n",
       "4        [{\"name\": \"Walt Disney Pictures\", \"id\": 2}]   \n",
       "\n",
       "                                production_countries     revenue  runtime  \\\n",
       "0  [{\"iso_3166_1\": \"US\", \"name\": \"United States o...  2787965087    162.0   \n",
       "1  [{\"iso_3166_1\": \"US\", \"name\": \"United States o...   961000000    169.0   \n",
       "2  [{\"iso_3166_1\": \"GB\", \"name\": \"United Kingdom\"...   880674609    148.0   \n",
       "3  [{\"iso_3166_1\": \"US\", \"name\": \"United States o...  1084939099    165.0   \n",
       "4  [{\"iso_3166_1\": \"US\", \"name\": \"United States o...   284139100    132.0   \n",
       "\n",
       "                                    spoken_languages  vote_average  \\\n",
       "0  [{\"iso_639_1\": \"en\", \"name\": \"English\"}, {\"iso...           7.2   \n",
       "1           [{\"iso_639_1\": \"en\", \"name\": \"English\"}]           6.9   \n",
       "2  [{\"iso_639_1\": \"fr\", \"name\": \"Fran\\u00e7ais\"},...           6.3   \n",
       "3           [{\"iso_639_1\": \"en\", \"name\": \"English\"}]           7.6   \n",
       "4           [{\"iso_639_1\": \"en\", \"name\": \"English\"}]           6.1   \n",
       "\n",
       "   vote_count                                               cast  \\\n",
       "0       11800  [{\"cast_id\": 242, \"character\": \"Jake Sully\", \"...   \n",
       "1        4500  [{\"cast_id\": 4, \"character\": \"Captain Jack Spa...   \n",
       "2        4466  [{\"cast_id\": 1, \"character\": \"James Bond\", \"cr...   \n",
       "3        9106  [{\"cast_id\": 2, \"character\": \"Bruce Wayne / Ba...   \n",
       "4        2124  [{\"cast_id\": 5, \"character\": \"John Carter\", \"c...   \n",
       "\n",
       "                                                crew  \n",
       "0  [{\"credit_id\": \"52fe48009251416c750aca23\", \"de...  \n",
       "1  [{\"credit_id\": \"52fe4232c3a36847f800b579\", \"de...  \n",
       "2  [{\"credit_id\": \"54805967c3a36829b5002c41\", \"de...  \n",
       "3  [{\"credit_id\": \"52fe4781c3a36847f81398c3\", \"de...  \n",
       "4  [{\"credit_id\": \"52fe479ac3a36847f813eaa3\", \"de...  "
      ]
     },
     "execution_count": 8,
     "metadata": {},
     "output_type": "execute_result"
    }
   ],
   "source": [
    "# Drop Duplicated, Null Values, Redundant Columns\n",
    "\n",
    "df_combine.drop(['homepage','original_language', 'release_date', 'status', 'tagline', 'title'],axis=1,inplace=True)\n",
    "df_combine.head()"
   ]
  },
  {
   "cell_type": "code",
   "execution_count": 9,
   "id": "709571e8",
   "metadata": {
    "scrolled": true
   },
   "outputs": [
    {
     "name": "stderr",
     "output_type": "stream",
     "text": [
      "C:\\Users\\ezlik\\AppData\\Local\\Temp\\ipykernel_15272\\1924731263.py:3: FutureWarning: The default value of regex will change from True to False in a future version.\n",
      "  df_combine['genres'] = df_combine['genres'] \\\n",
      "C:\\Users\\ezlik\\AppData\\Local\\Temp\\ipykernel_15272\\1924731263.py:16: FutureWarning: The default value of regex will change from True to False in a future version.\n",
      "  df_combine['keywords'] = df_combine['keywords'] \\\n"
     ]
    }
   ],
   "source": [
    "# Use Regex to remove special characters\n",
    "\n",
    "df_combine['genres'] = df_combine['genres'] \\\n",
    "                        .str.replace(r'[{}:\"\"]', \"\") \\\n",
    "                        .str.replace(\"id \", \"\") \\\n",
    "                        .str.replace('name', \"\") \\\n",
    "                        .str.replace(r'\\d', \"\") \\\n",
    "                        .str.replace(\",  \",\"\") \\\n",
    "                        .str.strip('[]') \\\n",
    "                        .str.replace(\" \",\"\")\n",
    "                        \n",
    "\n",
    "                                    \n",
    "# Do the same for keywords for visual plotting\n",
    "    \n",
    "df_combine['keywords'] = df_combine['keywords'] \\\n",
    "                        .str.replace(r'[{}:\"\"]', \"\") \\\n",
    "                        .str.replace(\"id \", \"\") \\\n",
    "                        .str.replace('name', \"\") \\\n",
    "                        .str.replace(r'\\d', \"\") \\\n",
    "                        .str.replace(\",  \",\"\") \\\n",
    "                        .str.strip('[]') \\\n",
    "                        .str.replace(\" \",\"\")\n"
   ]
  },
  {
   "cell_type": "code",
   "execution_count": 10,
   "id": "ccb1ca3f",
   "metadata": {},
   "outputs": [
    {
     "data": {
      "text/plain": [
       "0       Action,Adventure,Fantasy,ScienceFiction\n",
       "1                      Adventure,Fantasy,Action\n",
       "2                        Action,Adventure,Crime\n",
       "3                   Action,Crime,Drama,Thriller\n",
       "4               Action,Adventure,ScienceFiction\n",
       "                         ...                   \n",
       "4798                      Action,Crime,Thriller\n",
       "4799                             Comedy,Romance\n",
       "4800               Comedy,Drama,Romance,TVMovie\n",
       "4801                                           \n",
       "4802                                Documentary\n",
       "Name: genres, Length: 4803, dtype: object"
      ]
     },
     "execution_count": 10,
     "metadata": {},
     "output_type": "execute_result"
    }
   ],
   "source": [
    "df_combine['genres']"
   ]
  },
  {
   "cell_type": "code",
   "execution_count": 11,
   "id": "2d8b4e91",
   "metadata": {
    "scrolled": true
   },
   "outputs": [
    {
     "data": {
      "text/plain": [
       "0       cultureclash,future,spacewar,spacecolony,socie...\n",
       "1       ocean,drugabuse,exoticisland,eastindiatradingc...\n",
       "2       spy,basedonnovel,secretagent,sequel,mi,british...\n",
       "3       dccomics,crimefighter,terrorist,secretidentity...\n",
       "4       basedonnovel,mars,medallion,spacetravel,prince...\n",
       "                              ...                        \n",
       "4798    unitedstates\\umexicobarrier,legs,arms,paperkni...\n",
       "4799                                                     \n",
       "4800    date,loveatfirstsight,narration,investigation,...\n",
       "4801                                                     \n",
       "4802                  obsession,camcorder,crush,dreamgirl\n",
       "Name: keywords, Length: 4803, dtype: object"
      ]
     },
     "execution_count": 11,
     "metadata": {},
     "output_type": "execute_result"
    }
   ],
   "source": [
    "df_combine['keywords']"
   ]
  },
  {
   "cell_type": "markdown",
   "id": "9004c88d",
   "metadata": {},
   "source": [
    "# 3. Exploratory Data Analysis"
   ]
  },
  {
   "cell_type": "code",
   "execution_count": 12,
   "id": "8fcf07e6",
   "metadata": {},
   "outputs": [
    {
     "data": {
      "image/png": "[encoded data removed]",
      "text/plain": [
       "<Figure size 1200x700 with 1 Axes>"
      ]
     },
     "metadata": {},
     "output_type": "display_data"
    }
   ],
   "source": [
    "# Plot a bar chart for top genres\n",
    "\n",
    "df_genres = df_combine.filter(['genres'], axis=1)\n",
    "df_genres['genres'] = df_genres['genres'].str.split(',')\n",
    "\n",
    "\n",
    "plt.subplots(figsize=(12,7))\n",
    "genre_list=[]\n",
    "\n",
    "for i in df_genres['genres']:\n",
    "    genre_list.extend(i)\n",
    "    \n",
    "ax=pd.Series(genre_list).value_counts()[:10].sort_values(ascending=True).plot.barh(width=1.0,color=sns.color_palette('rocket',10))\n",
    "\n",
    "for i, v in enumerate(pd.Series(genre_list).value_counts()[:10].sort_values(ascending=True).values): \n",
    "    ax.text(.8, i, v,fontsize=10,color='white', weight = 'bold')\n",
    "    \n",
    "ax.patches[9].set_facecolor('slateblue')\n",
    "\n",
    "plt.title('Top Watched Genres')\n",
    "plt.show()"
   ]
  },
  {
   "cell_type": "code",
   "execution_count": 13,
   "id": "c62c6c77",
   "metadata": {},
   "outputs": [
    {
     "data": {
      "image/png": "[encoded data removed]",
      "text/plain": [
       "<Figure size 1200x700 with 1 Axes>"
      ]
     },
     "metadata": {},
     "output_type": "display_data"
    }
   ],
   "source": [
    "# Plot a bar chart for top keywords\n",
    "\n",
    "df_keywords = df_combine.filter(['keywords'], axis=1)\n",
    "df_keywords['keywords'] = df_keywords['keywords'].str.split(',')\n",
    "\n",
    "plt.subplots(figsize=(12,7))\n",
    "keywords_list=[]\n",
    "\n",
    "for i in df_keywords['keywords']:\n",
    "    keywords_list.extend(i)\n",
    "    \n",
    "ax=pd.Series(keywords_list).value_counts()[1:15].sort_values(ascending=True).plot.barh(width=1.0,color=sns.color_palette('rocket',15))\n",
    "\n",
    "for i, v in enumerate(pd.Series(keywords_list).value_counts()[1:15].sort_values(ascending=True).values): \n",
    "    ax.text(.8, i, v,fontsize=10,color='white',weight='bold')\n",
    "ax.patches[13].set_facecolor('slateblue')\n",
    "\n",
    "plt.title('Popular Keywords')\n",
    "plt.show()"
   ]
  },
  {
   "cell_type": "markdown",
   "id": "b976d7c8",
   "metadata": {},
   "source": [
    "# 4. Content Based Filtering (TFID vectorizer using \"Overview\")"
   ]
  },
  {
   "cell_type": "code",
   "execution_count": 14,
   "id": "12036804",
   "metadata": {},
   "outputs": [],
   "source": [
    "# Replace NA with blank values\n",
    "\n",
    "df_combine['overview'] = df_combine['overview'].fillna('')"
   ]
  },
  {
   "cell_type": "code",
   "execution_count": 15,
   "id": "359c6a0d",
   "metadata": {},
   "outputs": [],
   "source": [
    "# Extract Keywords\n",
    "\n",
    "tfid = TfidfVectorizer(stop_words='english')\n",
    "tfid_matrix = tfid.fit_transform(df_combine['overview'])"
   ]
  },
  {
   "cell_type": "code",
   "execution_count": 16,
   "id": "83fd151d",
   "metadata": {
    "scrolled": false
   },
   "outputs": [
    {
     "data": {
      "text/plain": [
       "array([[1.        , 0.        , 0.        , ..., 0.        , 0.        ,\n",
       "        0.        ],\n",
       "       [0.        , 1.        , 0.        , ..., 0.02160533, 0.        ,\n",
       "        0.        ],\n",
       "       [0.        , 0.        , 1.        , ..., 0.01488159, 0.        ,\n",
       "        0.        ],\n",
       "       ...,\n",
       "       [0.        , 0.02160533, 0.01488159, ..., 1.        , 0.01609091,\n",
       "        0.00701914],\n",
       "       [0.        , 0.        , 0.        , ..., 0.01609091, 1.        ,\n",
       "        0.01171696],\n",
       "       [0.        , 0.        , 0.        , ..., 0.00701914, 0.01171696,\n",
       "        1.        ]])"
      ]
     },
     "execution_count": 16,
     "metadata": {},
     "output_type": "execute_result"
    }
   ],
   "source": [
    "# Use Cosine Similarity to Calculate Similarity\n",
    "\n",
    "sim = cosine_similarity(tfid_matrix,tfid_matrix)\n",
    "sim"
   ]
  },
  {
   "cell_type": "markdown",
   "id": "aa462967",
   "metadata": {},
   "source": [
    "## 4.1 Test Build"
   ]
  },
  {
   "cell_type": "code",
   "execution_count": 17,
   "id": "5b087ea7",
   "metadata": {},
   "outputs": [],
   "source": [
    "# Create new index\n",
    "\n",
    "df_index_genres = pd.Series(df_combine['genres'], name = 'genre')\n",
    "df_index_title = pd.Series(df_combine['original_title'], name = 'original_title')\n",
    "df_index = pd.merge(df_index_title, df_index_genres, right_index = True,\n",
    "               left_index = True)\n",
    "\n",
    "df_index = pd.Series(df_index.index, index=df_index['original_title']).drop_duplicates()"
   ]
  },
  {
   "cell_type": "code",
   "execution_count": 18,
   "id": "94519dc3",
   "metadata": {},
   "outputs": [],
   "source": [
    "# 1. Input our target movie for recommendation\n",
    "title = 'Avatar'\n",
    "\n",
    "# 2. Align the target with the corresponding title\n",
    "target = df_index[df_index.index==title].values[0]"
   ]
  },
  {
   "cell_type": "code",
   "execution_count": 19,
   "id": "74ff8ff5",
   "metadata": {
    "scrolled": false
   },
   "outputs": [
    {
     "name": "stdout",
     "output_type": "stream",
     "text": [
      "[['Apollo 18' 'Horror,Thriller,ScienceFiction']]\n",
      "[['The American' 'Crime,Drama,Thriller']]\n",
      "[['The Matrix' 'Action,ScienceFiction']]\n",
      "[['Obitaemyy Ostrov' 'Action,Fantasy,ScienceFiction,Thriller']]\n",
      "[['Tears of the Sun' 'Action,Drama,War']]\n",
      "[['Hanna' 'Action,Thriller,Adventure']]\n",
      "[['The Adventures of Pluto Nash' 'Action,Comedy,ScienceFiction']]\n",
      "[['Semi-Pro' 'Comedy']]\n",
      "[['Supernova' 'Horror,ScienceFiction,Thriller']]\n",
      "[['Blood and Chocolate' 'Drama,Fantasy,Horror,Romance']]\n"
     ]
    }
   ],
   "source": [
    "X = list(enumerate(sim[target]))\n",
    "sort_index = sorted(X,key=lambda x:x[1],reverse=True)\n",
    "sort_index[1:10]\n",
    "\n",
    "for i in sort_index[1:11]:\n",
    "    recommend_movie= df_combine[df_combine.index == i[0]][['original_title', 'genres']].values\n",
    "    print(recommend_movie)"
   ]
  },
  {
   "cell_type": "markdown",
   "id": "5b1485e6",
   "metadata": {},
   "source": [
    "## 4.2 Define Into Function"
   ]
  },
  {
   "cell_type": "code",
   "execution_count": 20,
   "id": "0fd81a02",
   "metadata": {},
   "outputs": [],
   "source": [
    "def recommend_me_movies(title,n):\n",
    "    \n",
    "    output_list = []\n",
    "    target = df_index[df_index.index==title].values[0]\n",
    "    target_cos_list = list(enumerate(sim[target]))\n",
    "    sort_list = sorted(target_cos_list,key=lambda x:x[1],reverse=True)\n",
    "    for i in sort_list[1:n+1]:\n",
    "        recommend_movie = df_combine[df_combine.index==i[0]][['original_title', 'genres']].values[0]\n",
    "        output_list.append(recommend_movie)\n",
    "    return np.array(output_list).tolist()"
   ]
  },
  {
   "cell_type": "code",
   "execution_count": 21,
   "id": "afa445e1",
   "metadata": {
    "scrolled": false
   },
   "outputs": [
    {
     "data": {
      "text/plain": [
       "[['Shrek the Third', 'Fantasy,Adventure,Animation,Comedy,Family'],\n",
       " ['Shrek Forever After', 'Comedy,Adventure,Fantasy,Animation,Family'],\n",
       " ['Shrek', 'Adventure,Animation,Comedy,Family,Fantasy'],\n",
       " ['The Story of Us', 'Comedy,Drama,Romance'],\n",
       " ['Puss in Boots', 'Action,Adventure,Animation,Family,Fantasy'],\n",
       " ['Everyone Says I Love You', 'Music,Comedy,Romance'],\n",
       " ['Riding in Cars with Boys', 'Comedy,Drama,Romance'],\n",
       " ['A Cinderella Story', 'Comedy'],\n",
       " ['House at the End of the Street', 'Horror,Thriller'],\n",
       " ['Ella Enchanted', 'Family,Fantasy,Comedy']]"
      ]
     },
     "execution_count": 21,
     "metadata": {},
     "output_type": "execute_result"
    }
   ],
   "source": [
    "recommend_me_movies('Shrek 2',10)"
   ]
  },
  {
   "cell_type": "markdown",
   "id": "696e1b40",
   "metadata": {},
   "source": [
    "## 4.3 Create an Input Menu to Test"
   ]
  },
  {
   "cell_type": "code",
   "execution_count": 22,
   "id": "33d2980b",
   "metadata": {
    "scrolled": false
   },
   "outputs": [
    {
     "name": "stdout",
     "output_type": "stream",
     "text": [
      "=============Movie Recommender===========\n",
      "1. Recommend Me Movies\n",
      "2. Exit the Programe\n",
      "================Version 1.0==============\n",
      "Choose Option 1\n",
      "Input a Movie Title For Me To Recommend based on: titanic\n",
      "\n",
      "Your Recommended Movies are: \n",
      "['Raise the Titanic', 'Action,Drama,Thriller'] \n",
      "\n",
      "['Ghost Ship', 'Horror,Mystery,Thriller'] \n",
      "\n",
      "['I Can Do Bad All By Myself', 'Drama,Comedy'] \n",
      "\n",
      "['Event Horizon', 'Horror,ScienceFiction,Mystery'] \n",
      "\n",
      "['Niagara', 'Crime,Drama,Thriller'] \n",
      "\n",
      "['The Rose', 'Drama,Music,Romance'] \n",
      "\n",
      "['Triangle', 'Horror'] \n",
      "\n",
      "['The Ballad of Jack and Rose', 'Drama'] \n",
      "\n",
      "['Master and Commander: The Far Side of the World', 'Adventure'] \n",
      "\n",
      "['Poseidon', 'Adventure,Action,Drama,Thriller'] \n",
      "\n",
      "=============Movie Recommender===========\n",
      "1. Recommend Me Movies\n",
      "2. Exit the Programe\n",
      "================Version 1.0==============\n",
      "Choose Option 2\n",
      "Exiting programme, bye bye!\n"
     ]
    }
   ],
   "source": [
    "# Create Input Menu\n",
    "\n",
    "def action():\n",
    "    loop = True\n",
    "    while loop:\n",
    "        print(\"=============Movie Recommender===========\")\n",
    "        print(\"1. Recommend Me Movies\")\n",
    "        print(\"2. Exit the Programe\")\n",
    "        print(\"================Version 1.0==============\")\n",
    "        choice = int(input(\"Choose Option \"))\n",
    "\n",
    "        if choice == 1:\n",
    "            \n",
    "            try:\n",
    "                myvalue = input(\"Input a Movie Title For Me To Recommend based on: \")\n",
    "                myvalue_title = myvalue.title()\n",
    "                print(\"\\n\" \"Your Recommended Movies are: \")\n",
    "                \n",
    "                for title in recommend_me_movies(myvalue_title,10):\n",
    "                    print(title,\"\\n\")\n",
    "                \n",
    "            \n",
    "            except IndexError:\n",
    "                print('Movie Not Found in Database, sorry!')\n",
    "            \n",
    "            \n",
    "        elif choice == 2:\n",
    "            print(\"Exiting programme, bye bye!\")\n",
    "            break\n",
    "                     \n",
    "        else:\n",
    "            print(\"Wrong input, please try again\")   \n",
    "\n",
    "action()"
   ]
  },
  {
   "cell_type": "markdown",
   "id": "f49f9ac3",
   "metadata": {},
   "source": [
    "Comments:\n",
    "\n",
    "While using the TFID vectorizer on 'Overview' works to a certain degree, there were some recommendation errors observed. For example, when \"Titanic\" was keyed in, the recommended movies were for the most part acceptable, except 'Event Horizon', 'Triangle' & 'Ghost Ship' which are horror movies. \n",
    "\n",
    "While Titanic is largely a romance movie, other erroneous recommendations were also observed, such as \"I Can Do Bad All By Myself\", \"Niagara\" & \"Poseidon\".\n",
    "\n",
    "In the next phase, I will use \"genres\" instead and do a comparison to determine the better attribute."
   ]
  },
  {
   "cell_type": "markdown",
   "id": "3087684b",
   "metadata": {},
   "source": [
    "# 5. Content Based Filtering (TFID vectorizer using \"Genres\")\n",
    "\n",
    "The same process will be used for this section, however I will use \"Genres\" instead of \"Overview\".\n",
    "\n",
    "As the \"genres\" column has already been cleaned and processed earlier, no further processing is required."
   ]
  },
  {
   "cell_type": "markdown",
   "id": "b8f300e0",
   "metadata": {},
   "source": [
    "## 5.1 Test Build"
   ]
  },
  {
   "cell_type": "code",
   "execution_count": 23,
   "id": "478aafb1",
   "metadata": {},
   "outputs": [],
   "source": [
    "# Replace NA with blank values\n",
    "\n",
    "df_combine['genres'] = df_combine['genres'].fillna('')"
   ]
  },
  {
   "cell_type": "code",
   "execution_count": 24,
   "id": "be1fb445",
   "metadata": {},
   "outputs": [],
   "source": [
    "# Extract Keywords\n",
    "\n",
    "tfid = TfidfVectorizer(stop_words='english')\n",
    "tfid_matrix = tfid.fit_transform(df_combine['genres'])"
   ]
  },
  {
   "cell_type": "code",
   "execution_count": 25,
   "id": "574cbee2",
   "metadata": {
    "scrolled": true
   },
   "outputs": [
    {
     "data": {
      "text/plain": [
       "array([[1.        , 0.8450897 , 0.48696815, ..., 0.        , 0.        ,\n",
       "        0.        ],\n",
       "       [0.8450897 , 1.        , 0.5762325 , ..., 0.        , 0.        ,\n",
       "        0.        ],\n",
       "       [0.48696815, 0.5762325 , 1.        , ..., 0.        , 0.        ,\n",
       "        0.        ],\n",
       "       ...,\n",
       "       [0.        , 0.        , 0.        , ..., 1.        , 0.        ,\n",
       "        0.        ],\n",
       "       [0.        , 0.        , 0.        , ..., 0.        , 0.        ,\n",
       "        0.        ],\n",
       "       [0.        , 0.        , 0.        , ..., 0.        , 0.        ,\n",
       "        1.        ]])"
      ]
     },
     "execution_count": 25,
     "metadata": {},
     "output_type": "execute_result"
    }
   ],
   "source": [
    "# Use Cosine Similarity to Calculate Similarity\n",
    "\n",
    "sim = cosine_similarity(tfid_matrix,tfid_matrix)\n",
    "sim"
   ]
  },
  {
   "cell_type": "code",
   "execution_count": 26,
   "id": "6205b6cc",
   "metadata": {},
   "outputs": [],
   "source": [
    "# 1. Input our target movie for recommendation\n",
    "title = 'Avatar'\n",
    "\n",
    "# 2. Align the target with the corresponding title\n",
    "target = df_index[df_index.index==title].values[0]"
   ]
  },
  {
   "cell_type": "code",
   "execution_count": 27,
   "id": "bb239703",
   "metadata": {
    "scrolled": true
   },
   "outputs": [
    {
     "name": "stdout",
     "output_type": "stream",
     "text": [
      "[['Superman Returns' 'Adventure,Fantasy,Action,ScienceFiction']]\n",
      "[['Man of Steel' 'Action,Adventure,Fantasy,ScienceFiction']]\n",
      "[['X-Men: Days of Future Past' 'Action,Adventure,Fantasy,ScienceFiction']]\n",
      "[['Jupiter Ascending' 'ScienceFiction,Fantasy,Action,Adventure']]\n",
      "[['The Wolverine' 'Action,ScienceFiction,Adventure,Fantasy']]\n",
      "[['Superman' 'Action,Adventure,Fantasy,ScienceFiction']]\n",
      "[['Superman II' 'Action,Adventure,Fantasy,ScienceFiction']]\n",
      "[['Beastmaster 2: Through the Portal of Time'\n",
      "  'Action,Adventure,Fantasy,ScienceFiction']]\n",
      "[['Teenage Mutant Ninja Turtles'\n",
      "  'ScienceFiction,Action,Adventure,Fantasy,Comedy']]\n",
      "[['Mystery Men' 'Adventure,Fantasy,Action,Comedy,ScienceFiction']]\n"
     ]
    }
   ],
   "source": [
    "X = list(enumerate(sim[target]))\n",
    "sort_index = sorted(X,key=lambda x:x[1],reverse=True)\n",
    "sort_index[1:10]\n",
    "\n",
    "for i in sort_index[1:11]:\n",
    "    recommend_movie= df_combine[df_combine.index == i[0]][['original_title', 'genres']].values\n",
    "    print(recommend_movie)"
   ]
  },
  {
   "cell_type": "markdown",
   "id": "7c483057",
   "metadata": {},
   "source": [
    "## 5.2 Define Into Function\n",
    "\n",
    "The same function will be reused."
   ]
  },
  {
   "cell_type": "code",
   "execution_count": 28,
   "id": "ecc8496a",
   "metadata": {},
   "outputs": [],
   "source": [
    "def recommend_me_movies_ver_2(title,n):\n",
    "    \n",
    "    output_list = []\n",
    "    target = df_index[df_index.index==title].values[0]\n",
    "    target_cos_list = list(enumerate(sim[target]))\n",
    "    sort_list = sorted(target_cos_list,key=lambda x:x[1],reverse=True)\n",
    "    for i in sort_list[1:n+1]:\n",
    "        recommend_movie = df_combine[df_combine.index==i[0]][['original_title', 'genres']].values[0]\n",
    "        output_list.append(recommend_movie)\n",
    "    return np.array(output_list).tolist()"
   ]
  },
  {
   "cell_type": "code",
   "execution_count": 29,
   "id": "8f749415",
   "metadata": {
    "scrolled": true
   },
   "outputs": [
    {
     "data": {
      "text/plain": [
       "[['Shrek the Third', 'Fantasy,Adventure,Animation,Comedy,Family'],\n",
       " ['The Croods', 'Adventure,Animation,Comedy,Family,Fantasy'],\n",
       " ['The Smurfs', 'Animation,Family,Adventure,Comedy,Fantasy'],\n",
       " [\"The Emperor's New Groove\", 'Adventure,Animation,Comedy,Family,Fantasy'],\n",
       " ['Shrek 2', 'Adventure,Animation,Comedy,Family,Fantasy'],\n",
       " ['The Lego Movie', 'Adventure,Animation,Comedy,Family,Fantasy'],\n",
       " ['Shrek', 'Adventure,Animation,Comedy,Family,Fantasy'],\n",
       " ['The Ant Bully', 'Fantasy,Adventure,Animation,Comedy,Family'],\n",
       " ['Un monstre à Paris', 'Adventure,Animation,Comedy,Family,Fantasy'],\n",
       " ['The Polar Express', 'Adventure,Animation,Family,Fantasy']]"
      ]
     },
     "execution_count": 29,
     "metadata": {},
     "output_type": "execute_result"
    }
   ],
   "source": [
    "recommend_me_movies_ver_2('Shrek 2',10)"
   ]
  },
  {
   "cell_type": "markdown",
   "id": "3d0941b8",
   "metadata": {},
   "source": [
    "## 5.3 Create Revised Input Menu to Test"
   ]
  },
  {
   "cell_type": "code",
   "execution_count": 30,
   "id": "28bf3550",
   "metadata": {},
   "outputs": [
    {
     "name": "stdout",
     "output_type": "stream",
     "text": [
      "=============Movie Recommender===========\n",
      "1. Recommend Me Movies\n",
      "2. Exit the Programe\n",
      "================Version 2.0==============\n",
      "Choose Option 1\n",
      "Input a Movie Title For Me To Recommend based on: titanic\n",
      "\n",
      "Your Recommended Movies are: \n",
      "['The Phantom of the Opera', 'Thriller,Drama,Romance'] \n",
      "\n",
      "['Fifty Shades of Grey', 'Drama,Romance,Thriller'] \n",
      "\n",
      "['Angel Eyes', 'Drama,Romance,Thriller'] \n",
      "\n",
      "['Fatal Attraction', 'Drama,Romance,Thriller'] \n",
      "\n",
      "['Cruel Intentions', 'Drama,Romance,Thriller'] \n",
      "\n",
      "['O', 'Drama,Romance,Thriller'] \n",
      "\n",
      "['My Summer of Love', 'Drama,Thriller,Romance'] \n",
      "\n",
      "['Die Büchse der Pandora', 'Drama,Thriller,Romance'] \n",
      "\n",
      "['Escobar: Paradise Lost', 'Thriller,Romance'] \n",
      "\n",
      "['Fascination', 'Romance,Thriller'] \n",
      "\n",
      "=============Movie Recommender===========\n",
      "1. Recommend Me Movies\n",
      "2. Exit the Programe\n",
      "================Version 2.0==============\n",
      "Choose Option 2\n",
      "Exiting programme, bye bye!\n"
     ]
    }
   ],
   "source": [
    "# Create Input Menu\n",
    "\n",
    "def action():\n",
    "    loop = True\n",
    "    while loop:\n",
    "        print(\"=============Movie Recommender===========\")\n",
    "        print(\"1. Recommend Me Movies\")\n",
    "        print(\"2. Exit the Programe\")\n",
    "        print(\"================Version 2.0==============\")\n",
    "        choice = int(input(\"Choose Option \"))\n",
    "\n",
    "        if choice == 1:\n",
    "            \n",
    "            try:\n",
    "                myvalue = input(\"Input a Movie Title For Me To Recommend based on: \")\n",
    "                myvalue_title = myvalue.title()\n",
    "                print(\"\\n\" \"Your Recommended Movies are: \")\n",
    "                \n",
    "                for title in recommend_me_movies_ver_2(myvalue_title,10):\n",
    "                    print(title,\"\\n\")\n",
    "                \n",
    "            \n",
    "            except IndexError:\n",
    "                print('Movie Not Found in Database, sorry!')\n",
    "            \n",
    "            \n",
    "        elif choice == 2:\n",
    "            print(\"Exiting programme, bye bye!\")\n",
    "            break\n",
    "                     \n",
    "        else:\n",
    "            print(\"Wrong input, please try again\")   \n",
    "\n",
    "action()"
   ]
  },
  {
   "cell_type": "markdown",
   "id": "b0783978",
   "metadata": {},
   "source": [
    "Comments:\n",
    "\n",
    "Using genres, it is observed that the titles recommended are a much better match than before. For example, the titles recommended are all \"Romance\" and \"Thriller\", while a majority of the titles are of the \"Drama\" genre. \n",
    "\n",
    "In the next phase, I will attempt to use tensorflow on this dataset."
   ]
  }
 ],
 "metadata": {
  "kernelspec": {
   "display_name": "Python 3 (ipykernel)",
   "language": "python",
   "name": "python3"
  },
  "language_info": {
   "codemirror_mode": {
    "name": "ipython",
    "version": 3
   },
   "file_extension": ".py",
   "mimetype": "text/x-python",
   "name": "python",
   "nbconvert_exporter": "python",
   "pygments_lexer": "ipython3",
   "version": "3.9.15"
  }
 },
 "nbformat": 4,
 "nbformat_minor": 5
}
